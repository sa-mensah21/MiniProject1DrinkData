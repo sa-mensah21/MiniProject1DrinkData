{
 "cells": [
  {
   "cell_type": "code",
   "execution_count": 1,
   "metadata": {},
   "outputs": [
    {
     "name": "stdout",
     "output_type": "stream",
     "text": [
      "0.11 0.16 0.26 0.47\n"
     ]
    }
   ],
   "source": [
    "import pandas as pd\n",
    "data = pd.read_csv(\"mp1.csv\")\n",
    "\n",
    "#finds percent of each class\n",
    "\n",
    "c24 = data.loc[data['Grad year?']== 2024]\n",
    "c25 = data.loc[data['Grad year?']== 2025] \n",
    "c26 = data.loc[data['Grad year?']== 2026] \n",
    "c27 = data.loc[data['Grad year?']== 2027]\n",
    "\n",
    "#19 total responses\n",
    "totalE = 19\n",
    "\n",
    "c24 = c24.shape[0]\n",
    "c25 = c25.shape[0]\n",
    "c26 = c26.shape[0]\n",
    "c27 = c27.shape[0]\n",
    "\n",
    "#2 class of 24\n",
    "#3 for 25\n",
    "#5 for 26\n",
    "#9 for 27\n",
    "\n",
    "pct24 = round(c24 / 19,2)\n",
    "pct25 = round(c25 / 19 , 2) \n",
    "pct26 = round(c26 / 19 , 2)\n",
    "pct27 = round(c27 / 19 ,2)\n",
    "\n",
    "print(pct24,pct25,pct26,pct27)\n",
    "\n",
    "#11% for class of 24, 16% for class of 25, 26% for 26, 47 for class of 27\n",
    "\n"
   ]
  },
  {
   "cell_type": "code",
   "execution_count": 2,
   "metadata": {},
   "outputs": [],
   "source": [
    "#function for finding percent\n",
    "\n",
    "def calcPct(df, column, this):\n",
    "    numThis = df[column].value_counts().get(this,0)\n",
    "    pct = round((numThis/19)*100,0)\n",
    "\n",
    "    return pct"
   ]
  },
  {
   "cell_type": "code",
   "execution_count": 3,
   "metadata": {},
   "outputs": [
    {
     "name": "stdout",
     "output_type": "stream",
     "text": [
      "47.0\n",
      "53.0\n"
     ]
    }
   ],
   "source": [
    "#finds percent of each gender\n",
    "\n",
    "male = data.loc[data['Gender']== 'Male']\n",
    "female = data.loc[data['Gender']== 'Female']\n",
    "\n",
    "pctM = round(male.shape[0] / totalE, 2)\n",
    "pctF = round(female.shape[0] / totalE, 2)\n",
    "\n",
    "calcPct(data,'Gender','Male')\n",
    "\n",
    "#print(pctM,pctF)\n",
    "print(calcPct(data,'Gender','Male'))\n",
    "print(calcPct(data,'Gender','Female'))\n",
    "\n",
    "#47% male 53% female"
   ]
  },
  {
   "cell_type": "code",
   "execution_count": 4,
   "metadata": {},
   "outputs": [
    {
     "name": "stdout",
     "output_type": "stream",
     "text": [
      "47.0\n",
      "53.0\n"
     ]
    }
   ],
   "source": [
    "#finds percent of stem majors & non Stem majors\n",
    "\n",
    "print(calcPct(data,'Major Classification','STEM')) #47\n",
    "print(calcPct(data,'Major Classification','not STEM')) #53"
   ]
  },
  {
   "cell_type": "markdown",
   "metadata": {},
   "source": []
  },
  {
   "cell_type": "code",
   "execution_count": 5,
   "metadata": {},
   "outputs": [
    {
     "data": {
      "text/plain": [
       "19.157894736842106"
      ]
     },
     "execution_count": 5,
     "metadata": {},
     "output_type": "execute_result"
    }
   ],
   "source": [
    "# average age\n",
    "data['Age'].mean()\n",
    "\n",
    "#average age 19"
   ]
  },
  {
   "cell_type": "code",
   "execution_count": 6,
   "metadata": {},
   "outputs": [
    {
     "name": "stdout",
     "output_type": "stream",
     "text": [
      "26.0\n",
      "16.0\n",
      "11.0\n",
      "5.0\n",
      "0.0\n",
      "0.0\n",
      "0.0\n",
      "5.0\n",
      "0.0\n",
      "21.0\n",
      "5.0\n",
      "5.0\n",
      "0.0\n",
      "5.0\n"
     ]
    }
   ],
   "source": [
    "#percent of each drink\n",
    "\n",
    "print(calcPct(data,'Favorite Drink while eating (Dhall, restaurant, etc.)','Water')) #26\n",
    "print(calcPct(data,'Favorite Drink while eating (Dhall, restaurant, etc.)','Sweet Tea')) #16\n",
    "print(calcPct(data,'Favorite Drink while eating (Dhall, restaurant, etc.)','Coke')) #11\n",
    "print(calcPct(data,'Favorite Drink while eating (Dhall, restaurant, etc.)','Diet Soda')) #5\n",
    "print(calcPct(data,'Favorite Drink while eating (Dhall, restaurant, etc.)','Mountain Dew')) \n",
    "print(calcPct(data,'Favorite Drink while eating (Dhall, restaurant, etc.)','Sprite')) \n",
    "print(calcPct(data,'Favorite Drink while eating (Dhall, restaurant, etc.)','Zero Sugar Soda')) \n",
    "print(calcPct(data,'Favorite Drink while eating (Dhall, restaurant, etc.)','Juice'))\n",
    "print(calcPct(data,'Favorite Drink while eating (Dhall, restaurant, etc.)','Lemonade')) \n",
    "print(calcPct(data,'Favorite Drink while eating (Dhall, restaurant, etc.)','Dr. Pepper')) #21\n",
    "print(calcPct(data,'Favorite Drink while eating (Dhall, restaurant, etc.)','Root Beer')) #5\n",
    "print(calcPct(data,'Favorite Drink while eating (Dhall, restaurant, etc.)','Powerade')) #5\n",
    "print(calcPct(data,'Favorite Drink while eating (Dhall, restaurant, etc.)','Vitamin Water')) \n",
    "print(calcPct(data,'Favorite Drink while eating (Dhall, restaurant, etc.)','Chocolate Milk')) #5"
   ]
  },
  {
   "cell_type": "code",
   "execution_count": 7,
   "metadata": {},
   "outputs": [
    {
     "name": "stdout",
     "output_type": "stream",
     "text": [
      "11.0\n",
      "63.0\n",
      "5.0\n",
      "21.0\n"
     ]
    }
   ],
   "source": [
    "#percent of where\n",
    "\n",
    "print(calcPct(data,'Where do you drink this drink the most?','Store Bought (Dorm/Home)')) #11\n",
    "print(calcPct(data,'Where do you drink this drink the most?','Dhall')) #63\n",
    "print(calcPct(data,'Where do you drink this drink the most?','Everywhere')) #5 \n",
    "print(calcPct(data,'Where do you drink this drink the most?','Eating Out')) #21"
   ]
  },
  {
   "cell_type": "code",
   "execution_count": 8,
   "metadata": {},
   "outputs": [
    {
     "name": "stdout",
     "output_type": "stream",
     "text": [
      "32.0\n",
      "32.0\n",
      "26.0\n",
      "5.0\n",
      "5.0\n"
     ]
    }
   ],
   "source": [
    "#percent of the why at that location\n",
    "print(calcPct(data,'Why consume this beverage here?','free')) #32\n",
    "print(calcPct(data,'Why consume this beverage here?','Comfort Place/Drink')) #32\n",
    "print(calcPct(data,'Why consume this beverage here?','No better Option'))#26\n",
    "print(calcPct(data,'Why consume this beverage here?','Survival'))#5\n",
    "print(calcPct(data,'Why consume this beverage here?','Only place you can get it'))#5\n",
    "\n"
   ]
  },
  {
   "cell_type": "code",
   "execution_count": 9,
   "metadata": {},
   "outputs": [
    {
     "name": "stdout",
     "output_type": "stream",
     "text": [
      "16.94736842105263 7.722222222222222\n"
     ]
    }
   ],
   "source": [
    "#average #of how often\n",
    "\n",
    "#avg with ryan\n",
    "avg1 = data['How often do you drink your answer to the previous question a week? (Enter a number i.e. 7)'].mean()\n",
    "#avg without ryan\n",
    "\n",
    "mask = data['How often do you drink your answer to the previous question a week? (Enter a number i.e. 7)'] == 183\n",
    "\n",
    "noRyan = data[~mask]\n",
    "\n",
    "avg2 = noRyan['How often do you drink your answer to the previous question a week? (Enter a number i.e. 7)'].mean()\n",
    "\n",
    "print(avg1,avg2)\n",
    "\n",
    "#avg time a week is 17 including outlier. Without outlier 8 is the average"
   ]
  },
  {
   "cell_type": "code",
   "execution_count": 10,
   "metadata": {},
   "outputs": [
    {
     "name": "stdout",
     "output_type": "stream",
     "text": [
      "37.0\n",
      "37.0\n",
      "5.0\n",
      "0.0\n"
     ]
    }
   ],
   "source": [
    "#percent of why as often\n",
    "print(calcPct(data,'Why consume this beverage as often as you do?','Best Drink in Dhall'))#37\n",
    "print(calcPct(data,'Why consume this beverage as often as you do?','Basic Necessity'))#37\n",
    "print(calcPct(data,'Why consume this beverage as often as you do?','Bought a case/liter'))#5\n",
    "print(calcPct(data,'Why consume this beverage as often as you do?','Eat out alot'))\n"
   ]
  },
  {
   "cell_type": "code",
   "execution_count": 11,
   "metadata": {},
   "outputs": [
    {
     "name": "stdout",
     "output_type": "stream",
     "text": [
      "58.0\n",
      "21.0\n"
     ]
    }
   ],
   "source": [
    "#percent of why that drink\n",
    "print(calcPct(data,'Why is this your choice of drink?','Taste')) #58\n",
    "print(calcPct(data,'Why is this your choice of drink?','Nutritional Value')) #21\n",
    "\n"
   ]
  }
 ],
 "metadata": {
  "kernelspec": {
   "display_name": "base",
   "language": "python",
   "name": "python3"
  },
  "language_info": {
   "codemirror_mode": {
    "name": "ipython",
    "version": 3
   },
   "file_extension": ".py",
   "mimetype": "text/x-python",
   "name": "python",
   "nbconvert_exporter": "python",
   "pygments_lexer": "ipython3",
   "version": "3.11.5"
  }
 },
 "nbformat": 4,
 "nbformat_minor": 2
}
